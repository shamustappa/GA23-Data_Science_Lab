{
 "cells": [
  {
   "cell_type": "code",
   "execution_count": 1,
   "id": "00087efd-5759-47eb-995b-136f9afb768b",
   "metadata": {
    "tags": []
   },
   "outputs": [],
   "source": [
    "import pandas as pd\n",
    "import numpy as np\n",
    "import seaborn as sns\n",
    "import matplotlib.pyplot as plt\n",
    "from sklearn.model_selection import train_test_split #split training and testing data\n",
    "from sklearn.linear_model import LogisticRegression #machine learning"
   ]
  },
  {
   "cell_type": "code",
   "execution_count": 2,
   "id": "ad6d27fe-b273-463e-9718-08e21dabf11b",
   "metadata": {
    "tags": []
   },
   "outputs": [],
   "source": [
    "df = pd.read_csv(\"Iris.csv\")"
   ]
  },
  {
   "cell_type": "code",
   "execution_count": 3,
   "id": "090edb7b-535a-4119-abf1-8d5b494e5f02",
   "metadata": {
    "tags": []
   },
   "outputs": [
    {
     "name": "stdout",
     "output_type": "stream",
     "text": [
      "<class 'pandas.core.frame.DataFrame'>\n",
      "RangeIndex: 100 entries, 0 to 99\n",
      "Data columns (total 5 columns):\n",
      " #   Column         Non-Null Count  Dtype  \n",
      "---  ------         --------------  -----  \n",
      " 0   SepalLengthCm  100 non-null    float64\n",
      " 1   SepalWidthCm   100 non-null    float64\n",
      " 2   PetalLengthCm  100 non-null    float64\n",
      " 3   PetalWidthCm   100 non-null    float64\n",
      " 4   Species        100 non-null    object \n",
      "dtypes: float64(4), object(1)\n",
      "memory usage: 4.0+ KB\n"
     ]
    }
   ],
   "source": [
    "df.info()"
   ]
  },
  {
   "cell_type": "code",
   "execution_count": 4,
   "id": "e3abf40a-8114-4338-b380-5ef07c3b95a2",
   "metadata": {
    "tags": []
   },
   "outputs": [
    {
     "data": {
      "text/html": [
       "<div>\n",
       "<style scoped>\n",
       "    .dataframe tbody tr th:only-of-type {\n",
       "        vertical-align: middle;\n",
       "    }\n",
       "\n",
       "    .dataframe tbody tr th {\n",
       "        vertical-align: top;\n",
       "    }\n",
       "\n",
       "    .dataframe thead th {\n",
       "        text-align: right;\n",
       "    }\n",
       "</style>\n",
       "<table border=\"1\" class=\"dataframe\">\n",
       "  <thead>\n",
       "    <tr style=\"text-align: right;\">\n",
       "      <th></th>\n",
       "      <th>SepalLengthCm</th>\n",
       "      <th>SepalWidthCm</th>\n",
       "      <th>PetalLengthCm</th>\n",
       "      <th>PetalWidthCm</th>\n",
       "      <th>Species</th>\n",
       "    </tr>\n",
       "  </thead>\n",
       "  <tbody>\n",
       "    <tr>\n",
       "      <th>0</th>\n",
       "      <td>7.0</td>\n",
       "      <td>3.2</td>\n",
       "      <td>4.7</td>\n",
       "      <td>1.4</td>\n",
       "      <td>Iris-versicolor</td>\n",
       "    </tr>\n",
       "    <tr>\n",
       "      <th>1</th>\n",
       "      <td>6.4</td>\n",
       "      <td>3.2</td>\n",
       "      <td>4.5</td>\n",
       "      <td>1.5</td>\n",
       "      <td>Iris-versicolor</td>\n",
       "    </tr>\n",
       "    <tr>\n",
       "      <th>2</th>\n",
       "      <td>6.9</td>\n",
       "      <td>3.1</td>\n",
       "      <td>4.9</td>\n",
       "      <td>1.5</td>\n",
       "      <td>Iris-versicolor</td>\n",
       "    </tr>\n",
       "    <tr>\n",
       "      <th>3</th>\n",
       "      <td>5.5</td>\n",
       "      <td>2.3</td>\n",
       "      <td>4.0</td>\n",
       "      <td>1.3</td>\n",
       "      <td>Iris-versicolor</td>\n",
       "    </tr>\n",
       "    <tr>\n",
       "      <th>4</th>\n",
       "      <td>6.5</td>\n",
       "      <td>2.8</td>\n",
       "      <td>4.6</td>\n",
       "      <td>1.5</td>\n",
       "      <td>Iris-versicolor</td>\n",
       "    </tr>\n",
       "  </tbody>\n",
       "</table>\n",
       "</div>"
      ],
      "text/plain": [
       "   SepalLengthCm  SepalWidthCm  PetalLengthCm  PetalWidthCm          Species\n",
       "0            7.0           3.2            4.7           1.4  Iris-versicolor\n",
       "1            6.4           3.2            4.5           1.5  Iris-versicolor\n",
       "2            6.9           3.1            4.9           1.5  Iris-versicolor\n",
       "3            5.5           2.3            4.0           1.3  Iris-versicolor\n",
       "4            6.5           2.8            4.6           1.5  Iris-versicolor"
      ]
     },
     "execution_count": 4,
     "metadata": {},
     "output_type": "execute_result"
    }
   ],
   "source": [
    "df.head()"
   ]
  },
  {
   "cell_type": "code",
   "execution_count": 5,
   "id": "7460fa32-27cd-4722-b900-b8759fe5bcdd",
   "metadata": {
    "tags": []
   },
   "outputs": [
    {
     "data": {
      "text/plain": [
       "array(['Iris-versicolor', 'Iris-virginica'], dtype=object)"
      ]
     },
     "execution_count": 5,
     "metadata": {},
     "output_type": "execute_result"
    }
   ],
   "source": [
    "df.Species.unique()"
   ]
  },
  {
   "cell_type": "code",
   "execution_count": 6,
   "id": "1eef1d97-494d-4b20-ada5-4ac7ca7849e3",
   "metadata": {
    "tags": []
   },
   "outputs": [],
   "source": [
    "X = df.drop(['Species'], axis=1)\n",
    "y = df.Species.values"
   ]
  },
  {
   "cell_type": "code",
   "execution_count": 7,
   "id": "552d3428-eece-4a24-8371-71cffda20559",
   "metadata": {
    "tags": []
   },
   "outputs": [],
   "source": [
    "# Split the data into training and testing sets\n",
    "X_train, X_test, y_train, y_test = train_test_split(X, y, test_size=0.3, random_state=42)"
   ]
  },
  {
   "cell_type": "code",
   "execution_count": 8,
   "id": "e7d07aa3-6d1d-4e7b-a428-7754f5561358",
   "metadata": {
    "tags": []
   },
   "outputs": [],
   "source": [
    "accuracies = {}"
   ]
  },
  {
   "cell_type": "code",
   "execution_count": 9,
   "id": "8114da5c-5f09-4fab-8c70-5bc175c9a9ca",
   "metadata": {
    "tags": []
   },
   "outputs": [
    {
     "name": "stdout",
     "output_type": "stream",
     "text": [
      "Test Accuracy 93.33333333333333\n"
     ]
    }
   ],
   "source": [
    "lr = LogisticRegression()\n",
    "lr.fit(X_train, y_train)\n",
    "\n",
    "acc = lr.score(X_test, y_test)*100\n",
    "accuracies['Logistic Regression'] = acc\n",
    "\n",
    "print(\"Test Accuracy {}\".format(acc))"
   ]
  },
  {
   "cell_type": "code",
   "execution_count": 10,
   "id": "628354aa-0f8f-46cf-b506-25f83cf1d96f",
   "metadata": {
    "tags": []
   },
   "outputs": [
    {
     "name": "stdout",
     "output_type": "stream",
     "text": [
      "Test Accuracy 76.66666666666667\n"
     ]
    }
   ],
   "source": [
    "from sklearn.tree import DecisionTreeClassifier\n",
    "dtc = DecisionTreeClassifier()\n",
    "dtc.fit(X_train, y_train)\n",
    "\n",
    "acc = dtc.score(X_test, y_test)*100\n",
    "\n",
    "accuracies['Decision Tree Classifier'] = acc\n",
    "print(\"Test Accuracy {}\".format(acc))"
   ]
  },
  {
   "cell_type": "code",
   "execution_count": 11,
   "id": "cb91c257-a2bf-43f7-972c-5050934b1fc5",
   "metadata": {
    "tags": []
   },
   "outputs": [
    {
     "name": "stdout",
     "output_type": "stream",
     "text": [
      "Test Accuracy 83.33333333333334\n"
     ]
    }
   ],
   "source": [
    "from sklearn.ensemble import RandomForestClassifier\n",
    "rfc = RandomForestClassifier()\n",
    "rfc.fit(X_train, y_train)\n",
    "\n",
    "acc = rfc.score(X_test, y_test)*100\n",
    "accuracies['Random Forest Classifier'] = acc\n",
    "\n",
    "print(\"Test Accuracy {}\".format(acc))"
   ]
  },
  {
   "cell_type": "code",
   "execution_count": 12,
   "id": "552f73ab-8938-40da-8fa4-320494710897",
   "metadata": {
    "tags": []
   },
   "outputs": [
    {
     "name": "stdout",
     "output_type": "stream",
     "text": [
      "Test Accuracy 83.33333333333334\n"
     ]
    }
   ],
   "source": [
    "from sklearn.neighbors import KNeighborsClassifier\n",
    "knn = KNeighborsClassifier()\n",
    "knn.fit(X_train, y_train)\n",
    "\n",
    "acc = knn.score(X_test, y_test)*100\n",
    "accuracies['KNeighbors Classifier'] = acc\n",
    "\n",
    "print(\"Test Accuracy {}\".format(acc))"
   ]
  },
  {
   "cell_type": "code",
   "execution_count": 13,
   "id": "79607e50-84dc-4e6a-b343-3a6f3804feda",
   "metadata": {
    "tags": []
   },
   "outputs": [
    {
     "name": "stdout",
     "output_type": "stream",
     "text": [
      "Logistic Regression: 93.33%\n",
      "Decision Tree Classifier: 76.67%\n",
      "Random Forest Classifier: 83.33%\n",
      "KNeighbors Classifier: 83.33%\n"
     ]
    }
   ],
   "source": [
    "for model, accuracy in accuracies.items():\n",
    "    print(f\"{model}: {accuracy:.2f}%\") #f-string"
   ]
  },
  {
   "cell_type": "code",
   "execution_count": 14,
   "id": "8e38e1cd-5168-4f9c-8a5b-0fab94e443c8",
   "metadata": {
    "tags": []
   },
   "outputs": [
    {
     "name": "stdout",
     "output_type": "stream",
     "text": [
      "Logistic Regression: 93.33%\n",
      "Decision Tree Classifier: 76.67%\n",
      "Random Forest Classifier: 83.33%\n",
      "KNeighbors Classifier: 83.33%\n"
     ]
    }
   ],
   "source": [
    "for model, accuracy in accuracies.items():\n",
    "    print(\"{}: {:.2f}%\".format(model, accuracy)) #.format"
   ]
  },
  {
   "cell_type": "code",
   "execution_count": 15,
   "id": "aaecd597-23d0-4239-ad1e-4c586253780a",
   "metadata": {
    "tags": []
   },
   "outputs": [
    {
     "data": {
      "image/png": "[encoded data removed]",
      "text/plain": [
       "<Figure size 1000x500 with 1 Axes>"
      ]
     },
     "metadata": {},
     "output_type": "display_data"
    }
   ],
   "source": [
    "colors = [\"purple\", \"green\", \"orange\", \"blue\"]\n",
    "\n",
    "sns.set_style(\"whitegrid\")\n",
    "plt.figure(figsize=(10, 5))\n",
    "plt.yticks(np.arange(0, 100, 10))\n",
    "plt.xlabel(\"Models\")\n",
    "plt.ylabel(\"Accuracy (%)\")\n",
    "\n",
    "ax = sns.barplot(x=list(accuracies.keys()), y=list(accuracies.values()), palette=colors)\n",
    "\n",
    "for container in ax.containers:\n",
    "    ax.bar_label(container)\n",
    "\n",
    "plt.show()"
   ]
  },
  {
   "cell_type": "code",
   "execution_count": 16,
   "id": "4ee3605a-1409-4dea-8cd6-8cbbce1aeddb",
   "metadata": {
    "tags": []
   },
   "outputs": [
    {
     "name": "stdout",
     "output_type": "stream",
     "text": [
      "Accuracy: 0.93\n",
      "Precision: 0.93\n",
      "Recall: 0.93\n",
      "F1 Score: 0.93\n"
     ]
    }
   ],
   "source": [
    "y_head_lr = lr.predict(X_test)\n",
    "\n",
    "from sklearn.metrics import accuracy_score, precision_score, recall_score, f1_score\n",
    "\n",
    "accuracy = accuracy_score(y_test, y_head_lr)\n",
    "precision = precision_score(y_test, y_head_lr, average='weighted')  # Use 'weighted' for multi-class problems\n",
    "recall = recall_score(y_test, y_head_lr, average='weighted')  # Use 'weighted' for multi-class problems\n",
    "f1 = f1_score(y_test, y_head_lr, average='weighted')  # Use 'weighted' for multi-class problems\n",
    "\n",
    "print(\"Accuracy: {:.2f}\".format(accuracy))\n",
    "print(\"Precision: {:.2f}\".format(precision))\n",
    "print(\"Recall: {:.2f}\".format(recall))\n",
    "print(\"F1 Score: {:.2f}\".format(f1))"
   ]
  },
  {
   "cell_type": "code",
   "execution_count": 17,
   "id": "ef364de0-60a0-4bac-ac87-637aeac52bff",
   "metadata": {
    "tags": []
   },
   "outputs": [],
   "source": [
    "from sklearn.metrics import confusion_matrix"
   ]
  },
  {
   "cell_type": "code",
   "execution_count": 18,
   "id": "eedabb57-1153-41ca-9359-c08cc5c1c3cc",
   "metadata": {
    "tags": []
   },
   "outputs": [
    {
     "data": {
      "image/png": "[encoded data removed]",
      "text/plain": [
       "<Figure size 2400x1200 with 4 Axes>"
      ]
     },
     "metadata": {},
     "output_type": "display_data"
    }
   ],
   "source": [
    "y_head_lr = lr.predict(X_test)\n",
    "cm_lr = confusion_matrix(y_test, y_head_lr)\n",
    "\n",
    "y_head_dtc = dtc.predict(X_test)\n",
    "cm_dtc = confusion_matrix(y_test, y_head_dtc)\n",
    "\n",
    "y_head_rfc = rfc.predict(X_test)\n",
    "cm_rfc = confusion_matrix(y_test, y_head_rfc)\n",
    "\n",
    "y_head_knn = knn.predict(X_test)\n",
    "cm_knn = confusion_matrix(y_test, y_head_knn)\n",
    "\n",
    "plt.figure(figsize=(24, 12))\n",
    "\n",
    "plt.suptitle(\"Confusion Matrices\", fontsize=24)\n",
    "plt.subplots_adjust(wspace=0.4, hspace=0.4)\n",
    "\n",
    "plt.subplot(2, 2, 1)\n",
    "plt.title(\"Logistic Regression Confusion Matrix\")\n",
    "sns.heatmap(cm_lr, annot=True, cmap=\"Blues\", fmt=\"d\", cbar=False, annot_kws={\"size\": 24})\n",
    "\n",
    "plt.subplot(2, 2, 2)\n",
    "plt.title(\"Decision Tree Classifier Confusion Matrix\")\n",
    "sns.heatmap(cm_dtc, annot=True, cmap=\"Blues\", fmt=\"d\", cbar=False, annot_kws={\"size\": 24})\n",
    "\n",
    "plt.subplot(2, 2, 3)\n",
    "plt.title(\"Random Forest Classifier Confusion Matrix\")\n",
    "sns.heatmap(cm_rfc, annot=True, cmap=\"Blues\", fmt=\"d\", cbar=False, annot_kws={\"size\": 24})\n",
    "\n",
    "plt.subplot(2, 2, 4)\n",
    "plt.title(\"K-Nearest Neighbors Confusion Matrix\")\n",
    "sns.heatmap(cm_knn, annot=True, cmap=\"Blues\", fmt=\"d\", cbar=False, annot_kws={\"size\": 24})\n",
    "\n",
    "plt.show()"
   ]
  },
  {
   "cell_type": "code",
   "execution_count": null,
   "id": "d80e201d-cced-47d1-98a7-95c00370b9f2",
   "metadata": {},
   "outputs": [],
   "source": []
  }
 ],
 "metadata": {
  "kernelspec": {
   "display_name": "Python 3 (ipykernel)",
   "language": "python",
   "name": "python3"
  },
  "language_info": {
   "codemirror_mode": {
    "name": "ipython",
    "version": 3
   },
   "file_extension": ".py",
   "mimetype": "text/x-python",
   "name": "python",
   "nbconvert_exporter": "python",
   "pygments_lexer": "ipython3",
   "version": "3.11.4"
  }
 },
 "nbformat": 4,
 "nbformat_minor": 5
}
