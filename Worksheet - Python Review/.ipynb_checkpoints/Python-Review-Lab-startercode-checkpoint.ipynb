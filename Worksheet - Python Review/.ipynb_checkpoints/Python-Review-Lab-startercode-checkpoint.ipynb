{
 "cells": [
  {
   "cell_type": "markdown",
   "metadata": {},
   "source": [
    "<img src=\"http://imgur.com/1ZcRyrc.png\" style=\"float: left; margin: 20px; height: 55px\">\n",
    "\n",
    "# Python review lab\n",
    "\n",
    "Week 1 | Day 2 | Lab 1 \n",
    "\n",
    "---"
   ]
  },
  {
   "cell_type": "markdown",
   "metadata": {
    "toc": true
   },
   "source": [
    "<h1>Table of Contents<span class=\"tocSkip\"></span></h1>\n",
    "<div class=\"toc\"><ul class=\"toc-item\"><li><span><a href=\"#Miscellaneous-problems\" data-toc-modified-id=\"Miscellaneous-problems-1\">Miscellaneous problems</a></span><ul class=\"toc-item\"><li><span><a href=\"#1.-What-are-the-types-of-the-following-variables?\" data-toc-modified-id=\"1.-What-are-the-types-of-the-following-variables?-1.1\">1. What are the types of the following variables?</a></span></li><li><span><a href=\"#2.-What-is-the-difference-between-a-&quot;mutable&quot;-and-an-&quot;immutable&quot;-object?\" data-toc-modified-id=\"2.-What-is-the-difference-between-a-&quot;mutable&quot;-and-an-&quot;immutable&quot;-object?-1.2\">2. What is the difference between a \"mutable\" and an \"immutable\" object?</a></span></li><li><span><a href=\"#3.-Print-the-student_names-list.\" data-toc-modified-id=\"3.-Print-the-student_names-list.-1.3\">3. Print the <code>student_names</code> list.</a></span></li><li><span><a href=\"#4.-Print-the-names-of-the-first-and-last-students-in-the-list.\" data-toc-modified-id=\"4.-Print-the-names-of-the-first-and-last-students-in-the-list.-1.4\">4. Print the names of the first and last students in the list.</a></span></li><li><span><a href=\"#5.-Print-the-first-5-names-in-the-student-list.\" data-toc-modified-id=\"5.-Print-the-first-5-names-in-the-student-list.-1.5\">5. Print the first 5 names in the student list.</a></span></li><li><span><a href=\"#6.-Combine-the-9th-and-10th-student-names-into-a-single-string,-separated-by-a-space,-and-assign-to-a-variable.\" data-toc-modified-id=\"6.-Combine-the-9th-and-10th-student-names-into-a-single-string,-separated-by-a-space,-and-assign-to-a-variable.-1.6\">6. Combine the 9th and 10th student names into a single string, separated by a space, and assign to a variable.</a></span></li><li><span><a href=\"#7.-Append-an-animal-to-the-list-of-animals.\" data-toc-modified-id=\"7.-Append-an-animal-to-the-list-of-animals.-1.7\">7. Append an animal to the list of animals.</a></span></li><li><span><a href=\"#8.-Print-the-length-of-the-animals-list.\" data-toc-modified-id=\"8.-Print-the-length-of-the-animals-list.-1.8\">8. Print the length of the animals list.</a></span></li><li><span><a href=\"#9.-Show-two-different-ways-to-combine-the-animals-list-and-numbers-list.\" data-toc-modified-id=\"9.-Show-two-different-ways-to-combine-the-animals-list-and-numbers-list.-1.9\">9. Show two different ways to combine the animals list and numbers list.</a></span></li><li><span><a href=\"#10.-Remove-my-name-from-the-list-and-insert-your-own-in-the-same-place.\" data-toc-modified-id=\"10.-Remove-my-name-from-the-list-and-insert-your-own-in-the-same-place.-1.10\">10. Remove my name from the list and insert your own in the same place.</a></span></li><li><span><a href=\"#11.-Find-the-index-of-'a'-in-the--mix--list.\" data-toc-modified-id=\"11.-Find-the-index-of-'a'-in-the--mix--list.-1.11\">11. Find the index of <code>'a'</code> in the  <code>mix</code>  list.</a></span></li><li><span><a href=\"#12.-Reverse-the-mix-list.\" data-toc-modified-id=\"12.-Reverse-the-mix-list.-1.12\">12. Reverse the <code>mix</code> list.</a></span></li><li><span><a href=\"#13.-Remove-the-last-element-of-mix-and-assign-it-to-a-variable.\" data-toc-modified-id=\"13.-Remove-the-last-element-of-mix-and-assign-it-to-a-variable.-1.13\">13. Remove the last element of <code>mix</code> and assign it to a variable.</a></span></li><li><span><a href=\"#14.-Count-the-number-of-times-0-appears-in-the-following-list.\" data-toc-modified-id=\"14.-Count-the-number-of-times-0-appears-in-the-following-list.-1.14\">14. Count the number of times <code>0</code> appears in the following list.</a></span></li><li><span><a href=\"#15.-Try-to-convert-elements-in-a-list-to-floats.\" data-toc-modified-id=\"15.-Try-to-convert-elements-in-a-list-to-floats.-1.15\">15. Try to convert elements in a list to floats.</a></span></li><li><span><a href=\"#16.-While-loops-and-strings.\" data-toc-modified-id=\"16.-While-loops-and-strings.-1.16\">16. While loops and strings.</a></span><span>"
   ]
  },
  {
   "cell_type": "markdown",
   "metadata": {},
   "source": [
    "## Miscellaneous problems"
   ]
  },
  {
   "cell_type": "markdown",
   "metadata": {},
   "source": [
    "---"
   ]
  },
  {
   "cell_type": "markdown",
   "metadata": {},
   "source": [
    "### 1. What are the types of the following variables?"
   ]
  },
  {
   "cell_type": "code",
   "execution_count": 1,
   "metadata": {},
   "outputs": [],
   "source": [
    "a = 1\n",
    "b = 2.6\n",
    "c = [1,2,3,5,6]\n",
    "d = {'MYR':'Malaysian Ringgit', 'SGD':'Singapore Dollar'}\n",
    "e = ('one', 'two', 'three')\n",
    "f = {1:{'key':'value'}, 2:{'key2':'value2'}}\n",
    "g = True\n",
    "h = False\n",
    "i = 'integer'"
   ]
  },
  {
   "cell_type": "markdown",
   "metadata": {},
   "source": [
    "a = int (integer)\n",
    "b = float (floating-point)\n",
    "c = list\n",
    "d = dict (dictionary)\n",
    "e = tuple\n",
    "f = dict (dictionary)\n",
    "g = bool (boolean)\n",
    "h = bool (boolean)\n",
    "i = str (string)"
   ]
  },
  {
   "cell_type": "markdown",
   "metadata": {
    "tags": []
   },
   "source": [
    "---"
   ]
  },
  {
   "cell_type": "markdown",
   "metadata": {},
   "source": [
    "### 2. What is the difference between a \"mutable\" and an \"immutable\" object? \n",
    "\n",
    "Answer in one sentence."
   ]
  },
  {
   "cell_type": "markdown",
   "metadata": {},
   "source": [
    "A mutable object can be modified after it is created, whereas an immutable object cannot be changed once it is created."
   ]
  },
  {
   "cell_type": "markdown",
   "metadata": {},
   "source": [
    "---"
   ]
  },
  {
   "cell_type": "markdown",
   "metadata": {},
   "source": [
    "### 3. Print the `student_names` list."
   ]
  },
  {
   "cell_type": "code",
   "execution_count": 2,
   "metadata": {
    "tags": []
   },
   "outputs": [],
   "source": [
    "student_names = ['s1','s2','s3','s4','s5','s6','s7','s8','s9','s10']"
   ]
  },
  {
   "cell_type": "code",
   "execution_count": 3,
   "metadata": {
    "tags": []
   },
   "outputs": [
    {
     "name": "stdout",
     "output_type": "stream",
     "text": [
      "['s1', 's2', 's3', 's4', 's5', 's6', 's7', 's8', 's9', 's10']\n"
     ]
    }
   ],
   "source": [
    "print(student_names)"
   ]
  },
  {
   "cell_type": "markdown",
   "metadata": {},
   "source": [
    "---"
   ]
  },
  {
   "cell_type": "markdown",
   "metadata": {},
   "source": [
    "### 4. Print the names of the first and last students in the list."
   ]
  },
  {
   "cell_type": "code",
   "execution_count": 4,
   "metadata": {},
   "outputs": [
    {
     "name": "stdout",
     "output_type": "stream",
     "text": [
      "s1 and s10\n"
     ]
    }
   ],
   "source": [
    "print(student_names[0], 'and', student_names[-1])"
   ]
  },
  {
   "cell_type": "markdown",
   "metadata": {},
   "source": [
    "---"
   ]
  },
  {
   "cell_type": "markdown",
   "metadata": {},
   "source": [
    "### 5. Print the first 5 names in the student list."
   ]
  },
  {
   "cell_type": "code",
   "execution_count": 5,
   "metadata": {},
   "outputs": [
    {
     "name": "stdout",
     "output_type": "stream",
     "text": [
      "['s1', 's2', 's3', 's4', 's5']\n"
     ]
    }
   ],
   "source": [
    "print(student_names[:5])"
   ]
  },
  {
   "cell_type": "markdown",
   "metadata": {},
   "source": [
    "---"
   ]
  },
  {
   "cell_type": "markdown",
   "metadata": {},
   "source": [
    "### 6. Combine the 9th and 10th student names into a single string, separated by a space, and assign to a variable."
   ]
  },
  {
   "cell_type": "code",
   "execution_count": 6,
   "metadata": {},
   "outputs": [
    {
     "name": "stdout",
     "output_type": "stream",
     "text": [
      "s9 s10\n"
     ]
    }
   ],
   "source": [
    "combined_names = \" \".join(student_names[8:10])\n",
    "print(combined_names)"
   ]
  },
  {
   "cell_type": "markdown",
   "metadata": {},
   "source": [
    "---"
   ]
  },
  {
   "cell_type": "markdown",
   "metadata": {},
   "source": [
    "### 7. Append an animal to the list of animals."
   ]
  },
  {
   "cell_type": "code",
   "execution_count": 7,
   "metadata": {},
   "outputs": [],
   "source": [
    "animals = ['duck', 'rat', 'boar', 'elephant', 'mammoth', 'gazelle']"
   ]
  },
  {
   "cell_type": "code",
   "execution_count": 8,
   "metadata": {},
   "outputs": [
    {
     "name": "stdout",
     "output_type": "stream",
     "text": [
      "['duck', 'rat', 'boar', 'elephant', 'mammoth', 'gazelle', 'giraffe']\n"
     ]
    }
   ],
   "source": [
    "animals.append('giraffe')\n",
    "print(animals)"
   ]
  },
  {
   "cell_type": "markdown",
   "metadata": {},
   "source": [
    "---"
   ]
  },
  {
   "cell_type": "markdown",
   "metadata": {},
   "source": [
    "### 8. Print the length of the animals list."
   ]
  },
  {
   "cell_type": "code",
   "execution_count": 9,
   "metadata": {},
   "outputs": [
    {
     "name": "stdout",
     "output_type": "stream",
     "text": [
      "7\n"
     ]
    }
   ],
   "source": [
    "length_of_animals = len(animals)\n",
    "print(length_of_animals)"
   ]
  },
  {
   "cell_type": "markdown",
   "metadata": {},
   "source": [
    "---"
   ]
  },
  {
   "cell_type": "markdown",
   "metadata": {},
   "source": [
    "### 9. Show two different ways to combine the animals list and numbers list."
   ]
  },
  {
   "cell_type": "code",
   "execution_count": 10,
   "metadata": {},
   "outputs": [],
   "source": [
    "numbers = [0., 0.1, 1., 10., 100., 1000.]"
   ]
  },
  {
   "cell_type": "code",
   "execution_count": 11,
   "metadata": {},
   "outputs": [
    {
     "name": "stdout",
     "output_type": "stream",
     "text": [
      "['duck', 'rat', 'boar', 'elephant', 'mammoth', 'gazelle', 'giraffe', 0.0, 0.1, 1.0, 10.0, 100.0, 1000.0]\n"
     ]
    }
   ],
   "source": [
    "combined_list = animals + numbers\n",
    "print(combined_list)"
   ]
  },
  {
   "cell_type": "code",
   "execution_count": 12,
   "metadata": {
    "tags": []
   },
   "outputs": [
    {
     "name": "stdout",
     "output_type": "stream",
     "text": [
      "['duck', 'rat', 'boar', 'elephant', 'mammoth', 'gazelle', 'giraffe', 0.0, 0.1, 1.0, 10.0, 100.0, 1000.0]\n"
     ]
    }
   ],
   "source": [
    "animals.extend(numbers)\n",
    "print(animals)"
   ]
  },
  {
   "cell_type": "markdown",
   "metadata": {},
   "source": [
    "---"
   ]
  },
  {
   "cell_type": "markdown",
   "metadata": {},
   "source": [
    "### 10. Remove the name 'chris' from the list and insert your own in the same place."
   ]
  },
  {
   "cell_type": "code",
   "execution_count": 13,
   "metadata": {},
   "outputs": [],
   "source": [
    "names = ['doug', 'billy', 'chris', 'kian', 'sam']"
   ]
  },
  {
   "cell_type": "code",
   "execution_count": 14,
   "metadata": {},
   "outputs": [
    {
     "name": "stdout",
     "output_type": "stream",
     "text": [
      "['doug', 'billy', 'kian', 'sam']\n"
     ]
    }
   ],
   "source": [
    "names.remove('chris')\n",
    "print(names)"
   ]
  },
  {
   "cell_type": "markdown",
   "metadata": {},
   "source": [
    "---"
   ]
  },
  {
   "cell_type": "markdown",
   "metadata": {},
   "source": [
    "### 11. Find the index of `'a'` in the  `mix`  list."
   ]
  },
  {
   "cell_type": "code",
   "execution_count": 15,
   "metadata": {},
   "outputs": [],
   "source": [
    "mix = [['billy', 'sam'], {'key':'value'}, 12.999, 12, 'flower', 'a', (1, 2, 3)]"
   ]
  },
  {
   "cell_type": "code",
   "execution_count": 16,
   "metadata": {},
   "outputs": [
    {
     "name": "stdout",
     "output_type": "stream",
     "text": [
      "5\n"
     ]
    }
   ],
   "source": [
    "index_of_a = mix.index('a')\n",
    "print(index_of_a)"
   ]
  },
  {
   "cell_type": "markdown",
   "metadata": {},
   "source": [
    "---"
   ]
  },
  {
   "cell_type": "markdown",
   "metadata": {},
   "source": [
    "### 12. Reverse the `mix` list."
   ]
  },
  {
   "cell_type": "code",
   "execution_count": 17,
   "metadata": {},
   "outputs": [
    {
     "name": "stdout",
     "output_type": "stream",
     "text": [
      "[(1, 2, 3), 'a', 'flower', 12, 12.999, {'key': 'value'}, ['billy', 'sam']]\n"
     ]
    }
   ],
   "source": [
    "reversed_mix = mix[::-1]\n",
    "print(reversed_mix)"
   ]
  },
  {
   "cell_type": "markdown",
   "metadata": {},
   "source": [
    "---"
   ]
  },
  {
   "cell_type": "markdown",
   "metadata": {},
   "source": [
    "### 13. Remove the last element of `mix` and assign it to a variable."
   ]
  },
  {
   "cell_type": "code",
   "execution_count": 18,
   "metadata": {},
   "outputs": [
    {
     "name": "stdout",
     "output_type": "stream",
     "text": [
      "[['billy', 'sam'], {'key': 'value'}, 12.999, 12, 'flower', 'a']\n"
     ]
    }
   ],
   "source": [
    "last_element = mix.pop()\n",
    "print(mix)"
   ]
  },
  {
   "cell_type": "markdown",
   "metadata": {},
   "source": [
    "---"
   ]
  },
  {
   "cell_type": "markdown",
   "metadata": {},
   "source": [
    "### 14. Count the number of times `0` appears in the following list."
   ]
  },
  {
   "cell_type": "code",
   "execution_count": 19,
   "metadata": {},
   "outputs": [],
   "source": [
    "binary = [0,1,1,0,1,0,1,1,1,1,0,0,1,0,0,1,0,1,1,0,0,1,1,0,1,1,0,0,0,1,1,1,0,1,0,1]"
   ]
  },
  {
   "cell_type": "code",
   "execution_count": 20,
   "metadata": {},
   "outputs": [
    {
     "name": "stdout",
     "output_type": "stream",
     "text": [
      "16\n"
     ]
    }
   ],
   "source": [
    "count_zero = binary.count(0)\n",
    "print(count_zero)"
   ]
  },
  {
   "cell_type": "markdown",
   "metadata": {},
   "source": [
    "---"
   ]
  },
  {
   "cell_type": "markdown",
   "metadata": {},
   "source": [
    "### 15. Try to convert elements in a list to floats.\n",
    "\n",
    "Create a new list with the converted numbers. If something cannot be converted, skip it and append nothing to the new list.\n",
    "\n",
    "> Hint: Use a try-except statement, see [here](http://www.pythonforbeginners.com/error-handling/python-try-and-except) or [here](https://www.programiz.com/python-programming/exception-handling)."
   ]
  },
  {
   "cell_type": "code",
   "execution_count": 21,
   "metadata": {},
   "outputs": [],
   "source": [
    "corrupted = ['!1', '23.1', '23.4.5', '??12', '.12', '12-12', '-11.1', '0-1', '*12.1', '1000']"
   ]
  },
  {
   "cell_type": "code",
   "execution_count": 22,
   "metadata": {},
   "outputs": [
    {
     "name": "stdout",
     "output_type": "stream",
     "text": [
      "[23.1, 0.12, -11.1, 1000.0]\n"
     ]
    }
   ],
   "source": [
    "corrupted = ['!1', '23.1', '23.4.5', '??12', '.12', '12-12', '-11.1', '0-1', '*12.1', '1000']\n",
    "converted = []\n",
    "\n",
    "for item in corrupted:\n",
    "    try:\n",
    "        float_item = float(item)\n",
    "        converted.append(float_item)\n",
    "    except ValueError:\n",
    "        continue\n",
    "        \n",
    "print(converted)"
   ]
  },
  {
   "cell_type": "markdown",
   "metadata": {},
   "source": [
    "---"
   ]
  },
  {
   "cell_type": "markdown",
   "metadata": {},
   "source": [
    "### 16. While loops and strings.\n",
    "\n",
    "Iterate over the following sentence and count the number of vowels in the sentence."
   ]
  },
  {
   "cell_type": "code",
   "execution_count": 23,
   "metadata": {},
   "outputs": [],
   "source": [
    "sentence = \"IF I PRACTICE A LOT I WILL SOON BECOME A VERY GOOD DATA SCIENTIST\""
   ]
  },
  {
   "cell_type": "code",
   "execution_count": 24,
   "metadata": {},
   "outputs": [
    {
     "name": "stdout",
     "output_type": "stream",
     "text": [
      "23\n"
     ]
    }
   ],
   "source": [
    "vowel = \"AEIOU\"\n",
    "index = 0\n",
    "count = 0\n",
    "\n",
    "while index < len(sentence):\n",
    "    if sentence[index] in vowel:\n",
    "        count += 1\n",
    "    index += 1\n",
    "    \n",
    "print(count)"
   ]
  },
  {
   "cell_type": "markdown",
   "metadata": {},
   "source": [
    "### 17. Functions\n",
    "\n",
    "Based on your code in question 16 above, write a function that receives a sentence as a parameter and returns the number of vowels in the sentence. Then calculate the number of vowels in the following:\n"
   ]
  },
  {
   "cell_type": "code",
   "execution_count": 25,
   "metadata": {},
   "outputs": [],
   "source": [
    "sentence_2 = \"THIS IS ANOTHER SENTENCE WITH A SOME VOWELS\""
   ]
  },
  {
   "cell_type": "code",
   "execution_count": 26,
   "metadata": {},
   "outputs": [
    {
     "name": "stdout",
     "output_type": "stream",
     "text": [
      "14\n"
     ]
    }
   ],
   "source": [
    "def count_vowel(sentence):\n",
    "    vowel = \"AEIOU\"\n",
    "    index = 0\n",
    "    count = 0\n",
    "\n",
    "    while index < len(sentence):\n",
    "        if sentence[index] in vowel:\n",
    "            count += 1\n",
    "        index += 1\n",
    "        \n",
    "    return count\n",
    "        \n",
    "result = count_vowel(sentence_2)\n",
    "print(result)"
   ]
  },
  {
   "cell_type": "markdown",
   "metadata": {},
   "source": [
    "---"
   ]
  }
 ],
 "metadata": {
  "anaconda-cloud": {},
  "kernelspec": {
   "display_name": "Python 3 (ipykernel)",
   "language": "python",
   "name": "python3"
  },
  "language_info": {
   "codemirror_mode": {
    "name": "ipython",
    "version": 3
   },
   "file_extension": ".py",
   "mimetype": "text/x-python",
   "name": "python",
   "nbconvert_exporter": "python",
   "pygments_lexer": "ipython3",
   "version": "3.11.4"
  },
  "toc": {
   "nav_menu": {},
   "number_sections": false,
   "sideBar": true,
   "skip_h1_title": true,
   "title_cell": "Table of Contents",
   "title_sidebar": "Contents",
   "toc_cell": true,
   "toc_position": {},
   "toc_section_display": "block",
   "toc_window_display": false
  }
 },
 "nbformat": 4,
 "nbformat_minor": 4
}
