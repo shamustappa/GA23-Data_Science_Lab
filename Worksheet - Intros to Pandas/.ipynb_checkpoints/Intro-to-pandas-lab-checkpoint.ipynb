{
 "cells": [
  {
   "cell_type": "markdown",
   "id": "ad078ff4",
   "metadata": {},
   "source": [
    "\n",
    "<img src=\"http://imgur.com/1ZcRyrc.png\" style=\"float: left; margin: 20px; height: 55px\">\n",
    "\n",
    "## Introduction to `pandas` - lab Exercise\n",
    "\n",
    "Consider the Superstore dataset, which consist of several tables stored as .csv files.\n",
    "\n",
    "- Products Table (products.csv)\n",
    "- Orders Table (orders.csv)\n",
    "- Returns Table (returns.csv)\n",
    "\n",
    "\n",
    "The Products Table contains the following attributes:\n",
    "\n",
    "- **product_id** - \tThe unique identifier value for the product in the order.\n",
    "- **category** - \tThe product's highest level category.\n",
    "- **sub_category** - \tThe classification of the product within the high-level category.\n",
    "- **product_name** - \tThe name of the product.\n",
    "- **product_cost_to_consumer** - \tThe cost of each product on a single quantity basis.\n",
    "\n",
    "Let's explore the Products table using what we have learned about Pandas so far."
   ]
  },
  {
   "cell_type": "code",
   "execution_count": 1,
   "id": "c25d650a",
   "metadata": {
    "tags": []
   },
   "outputs": [],
   "source": [
    "# import the required libraries first!\n",
    "import pandas as pd"
   ]
  },
  {
   "cell_type": "markdown",
   "id": "b63ea164",
   "metadata": {},
   "source": [
    "Q1. Read in the products.csv file that is in the `datasets` directory into a DataFrame called `products` (You may have to go up one folder to find it, type \"../\" and press the TAB key)\n",
    "\n"
   ]
  },
  {
   "cell_type": "code",
   "execution_count": 3,
   "id": "8e5eae20",
   "metadata": {
    "tags": []
   },
   "outputs": [],
   "source": [
    "products = pd.read_csv('C:/Users/shamu/Data Science/DS2023/Unit-1/Unit-1-04-Introduction-to-Pandas/lesson-1-Pandas-DataFrames/datasets/products.csv')"
   ]
  },
  {
   "cell_type": "markdown",
   "id": "ae1e0a02",
   "metadata": {},
   "source": [
    "Q2. Print the first 4 rows of the `products` DataFrame.\n"
   ]
  },
  {
   "cell_type": "code",
   "execution_count": 4,
   "id": "818bcd5d",
   "metadata": {
    "tags": []
   },
   "outputs": [
    {
     "name": "stdout",
     "output_type": "stream",
     "text": [
      "        product_id   category sub_category  \\\n",
      "0  FUR-BO-10000008  Furniture    Bookcases   \n",
      "1  FUR-BO-10000021  Furniture    Bookcases   \n",
      "2  FUR-BO-10000035  Furniture    Bookcases   \n",
      "3  FUR-BO-10000071  Furniture    Bookcases   \n",
      "\n",
      "                             product_name  product_cost_to_consumer  \n",
      "0  Sauder Library with Doors, Traditional                    360.51  \n",
      "1            Dania Corner Shelving, Metal                     70.50  \n",
      "2            Dania Classic Bookcase, Pine                    239.04  \n",
      "3            Safco 3-Shelf Cabinet, Metal                     89.22  \n"
     ]
    }
   ],
   "source": [
    "print(products.head(4))"
   ]
  },
  {
   "cell_type": "markdown",
   "id": "30a8632c",
   "metadata": {},
   "source": [
    "Q3. Identify the shape of the `products` DataFrame (how many rows and columns?)\n"
   ]
  },
  {
   "cell_type": "code",
   "execution_count": 5,
   "id": "c7199a89",
   "metadata": {
    "tags": []
   },
   "outputs": [
    {
     "name": "stdout",
     "output_type": "stream",
     "text": [
      "The DataFrame has 2720 rows and 5 columns.\n"
     ]
    }
   ],
   "source": [
    "shape = products.shape\n",
    "print(\"The DataFrame has {} rows and {} columns.\".format(shape[0], shape[1]))"
   ]
  },
  {
   "cell_type": "markdown",
   "id": "0d2c19d8",
   "metadata": {},
   "source": [
    "Q4. Get information about the number of null values, data types, memory usage of the DataFrame."
   ]
  },
  {
   "cell_type": "code",
   "execution_count": 6,
   "id": "2aa17e00",
   "metadata": {
    "tags": []
   },
   "outputs": [
    {
     "name": "stdout",
     "output_type": "stream",
     "text": [
      "<class 'pandas.core.frame.DataFrame'>\n",
      "RangeIndex: 2720 entries, 0 to 2719\n",
      "Data columns (total 5 columns):\n",
      " #   Column                    Non-Null Count  Dtype  \n",
      "---  ------                    --------------  -----  \n",
      " 0   product_id                2720 non-null   object \n",
      " 1   category                  2720 non-null   object \n",
      " 2   sub_category              2720 non-null   object \n",
      " 3   product_name              2720 non-null   object \n",
      " 4   product_cost_to_consumer  2720 non-null   float64\n",
      "dtypes: float64(1), object(4)\n",
      "memory usage: 106.4+ KB\n",
      "None\n"
     ]
    }
   ],
   "source": [
    "print(products.info())"
   ]
  },
  {
   "cell_type": "markdown",
   "id": "76e6e90f",
   "metadata": {},
   "source": [
    "Q5. How many products of each category are there?"
   ]
  },
  {
   "cell_type": "code",
   "execution_count": 7,
   "id": "658c4bca",
   "metadata": {
    "tags": []
   },
   "outputs": [
    {
     "name": "stdout",
     "output_type": "stream",
     "text": [
      "Office Supplies    1483\n",
      "Technology          638\n",
      "Furniture           599\n",
      "Name: category, dtype: int64\n"
     ]
    }
   ],
   "source": [
    "category_count = products['category'].value_counts()\n",
    "print(category_count)"
   ]
  },
  {
   "cell_type": "markdown",
   "id": "979822d3",
   "metadata": {},
   "source": [
    "Q6. What is the difference between using `unique()` and `nunique()`? Which one can be applied on the DataFrame and which one can be used on a Series, for example the `sub_category` column?"
   ]
  },
  {
   "cell_type": "code",
   "execution_count": 8,
   "id": "86e98f8e",
   "metadata": {
    "tags": []
   },
   "outputs": [
    {
     "name": "stdout",
     "output_type": "stream",
     "text": [
      "Unique values: ['Bookcases' 'Chairs' 'Furnishings' 'Tables' 'Appliances' 'Art' 'Binders'\n",
      " 'Envelopes' 'Fasteners' 'Labels' 'Paper' 'Storage' 'Supplies'\n",
      " 'Accessories' 'Copiers' 'Machines' 'Phones']\n",
      "Number of unique values: 17\n"
     ]
    }
   ],
   "source": [
    "unique_values = products['sub_category'].unique()\n",
    "num_unique_values = products['sub_category'].nunique()\n",
    "\n",
    "print(\"Unique values: {}\".format(unique_values))\n",
    "print(\"Number of unique values: {}\".format(num_unique_values))"
   ]
  },
  {
   "cell_type": "markdown",
   "id": "70ea2a18",
   "metadata": {},
   "source": [
    "Q7. Get some descriptive statistics about the numeric variable(s): count, mean, std dev, etc..."
   ]
  },
  {
   "cell_type": "code",
   "execution_count": 9,
   "id": "13626c54",
   "metadata": {
    "tags": []
   },
   "outputs": [
    {
     "name": "stdout",
     "output_type": "stream",
     "text": [
      "       product_cost_to_consumer\n",
      "count               2720.000000\n",
      "mean                  86.190607\n",
      "std                  116.631541\n",
      "min                    2.040000\n",
      "25%                   14.850000\n",
      "50%                   35.910000\n",
      "75%                  109.530000\n",
      "max                  854.040000\n"
     ]
    }
   ],
   "source": [
    "print(products.describe())"
   ]
  },
  {
   "cell_type": "markdown",
   "id": "8d96e8f9",
   "metadata": {},
   "source": [
    "Q8. Using `.loc()`, find all the products in rows with index 10 - 20, showing the product_ID and product name only."
   ]
  },
  {
   "cell_type": "code",
   "execution_count": 10,
   "id": "f234d2a6",
   "metadata": {
    "tags": []
   },
   "outputs": [
    {
     "name": "stdout",
     "output_type": "stream",
     "text": [
      "         product_id                            product_name\n",
      "10  FUR-BO-10000210           Ikea Library with Doors, Pine\n",
      "11  FUR-BO-10000243          Safco Floating Shelf Set, Pine\n",
      "12  FUR-BO-10000288     Safco Classic Bookcase, Traditional\n",
      "13  FUR-BO-10000321        Dania Floating Shelf Set, Mobile\n",
      "14  FUR-BO-10000402  Sauder Stackable Bookrack, Traditional\n",
      "15  FUR-BO-10000425    Bush Floating Shelf Set, Traditional\n",
      "16  FUR-BO-10000610         Ikea Stackable Bookrack, Mobile\n",
      "17  FUR-BO-10000616             Dania Corner Shelving, Pine\n",
      "18  FUR-BO-10000623         Safco Library with Doors, Metal\n",
      "19  FUR-BO-10000655     Dania Classic Bookcase, Traditional\n",
      "20  FUR-BO-10000666            Ikea 3-Shelf Cabinet, Mobile\n"
     ]
    }
   ],
   "source": [
    "result = products.loc[10:20, ['product_id', 'product_name']]\n",
    "print(result)"
   ]
  },
  {
   "cell_type": "markdown",
   "id": "5f457c78",
   "metadata": {},
   "source": [
    "Q9. Using `.iloc()`, get the products in rows with index offset from 10 to 20 and the product id and product name columns."
   ]
  },
  {
   "cell_type": "code",
   "execution_count": 11,
   "id": "a9b511e0",
   "metadata": {
    "tags": []
   },
   "outputs": [
    {
     "name": "stdout",
     "output_type": "stream",
     "text": [
      "         product_id                            product_name\n",
      "10  FUR-BO-10000210           Ikea Library with Doors, Pine\n",
      "11  FUR-BO-10000243          Safco Floating Shelf Set, Pine\n",
      "12  FUR-BO-10000288     Safco Classic Bookcase, Traditional\n",
      "13  FUR-BO-10000321        Dania Floating Shelf Set, Mobile\n",
      "14  FUR-BO-10000402  Sauder Stackable Bookrack, Traditional\n",
      "15  FUR-BO-10000425    Bush Floating Shelf Set, Traditional\n",
      "16  FUR-BO-10000610         Ikea Stackable Bookrack, Mobile\n",
      "17  FUR-BO-10000616             Dania Corner Shelving, Pine\n",
      "18  FUR-BO-10000623         Safco Library with Doors, Metal\n",
      "19  FUR-BO-10000655     Dania Classic Bookcase, Traditional\n",
      "20  FUR-BO-10000666            Ikea 3-Shelf Cabinet, Mobile\n"
     ]
    }
   ],
   "source": [
    "result = products.iloc[10:21, [0, 3]]\n",
    "print(result)"
   ]
  },
  {
   "cell_type": "markdown",
   "id": "88b16e75",
   "metadata": {},
   "source": [
    "Q10. What is the mean product cost to consumer for all products?"
   ]
  },
  {
   "cell_type": "code",
   "execution_count": 15,
   "id": "a923c8f0",
   "metadata": {
    "tags": []
   },
   "outputs": [
    {
     "name": "stdout",
     "output_type": "stream",
     "text": [
      "86.19060661764708\n"
     ]
    }
   ],
   "source": [
    "mean_cost = products['product_cost_to_consumer'].mean()\n",
    "print(mean_cost)"
   ]
  },
  {
   "cell_type": "markdown",
   "id": "7aa7ba65",
   "metadata": {},
   "source": [
    "Q11. Find all the products in the category 'Furniture'."
   ]
  },
  {
   "cell_type": "code",
   "execution_count": 16,
   "id": "e77ca084",
   "metadata": {
    "tags": []
   },
   "outputs": [
    {
     "name": "stdout",
     "output_type": "stream",
     "text": [
      "          product_id   category sub_category  \\\n",
      "0    FUR-BO-10000008  Furniture    Bookcases   \n",
      "1    FUR-BO-10000021  Furniture    Bookcases   \n",
      "2    FUR-BO-10000035  Furniture    Bookcases   \n",
      "3    FUR-BO-10000071  Furniture    Bookcases   \n",
      "4    FUR-BO-10000087  Furniture    Bookcases   \n",
      "..               ...        ...          ...   \n",
      "594  FUR-TA-10004745  Furniture       Tables   \n",
      "595  FUR-TA-10004757  Furniture       Tables   \n",
      "596  FUR-TA-10004826  Furniture       Tables   \n",
      "597  FUR-TA-10004892  Furniture       Tables   \n",
      "598  FUR-TA-10004957  Furniture       Tables   \n",
      "\n",
      "                                     product_name  product_cost_to_consumer  \n",
      "0          Sauder Library with Doors, Traditional                    360.51  \n",
      "1                    Dania Corner Shelving, Metal                     70.50  \n",
      "2                    Dania Classic Bookcase, Pine                    239.04  \n",
      "3                    Safco 3-Shelf Cabinet, Metal                     89.22  \n",
      "4                  Dania Classic Bookcase, Mobile                    392.64  \n",
      "..                                            ...                       ...  \n",
      "594      Chromcraft Conference Table, Rectangular                    731.01  \n",
      "595  Barricks Training Table, with Bottom Storage                    235.56  \n",
      "596             Bevis Training Table, Rectangular                    226.14  \n",
      "597    Chromcraft Wood Table, with Bottom Storage                    294.36  \n",
      "598             Bevis Wood Table, Fully Assembled                    288.96  \n",
      "\n",
      "[599 rows x 5 columns]\n"
     ]
    }
   ],
   "source": [
    "furniture_products = products[products['category'] == 'Furniture']\n",
    "print(furniture_products)"
   ]
  },
  {
   "cell_type": "markdown",
   "id": "228aa717",
   "metadata": {},
   "source": [
    "Q12. What is the mean product cost to consumer for products in the category 'Furniture'?"
   ]
  },
  {
   "cell_type": "code",
   "execution_count": 18,
   "id": "aa4f2b2a",
   "metadata": {
    "tags": []
   },
   "outputs": [
    {
     "name": "stdout",
     "output_type": "stream",
     "text": [
      "157.6964774624374\n"
     ]
    }
   ],
   "source": [
    "mean_furniture_cost = furniture_products['product_cost_to_consumer'].mean()\n",
    "print(mean_furniture_cost)"
   ]
  },
  {
   "cell_type": "markdown",
   "id": "c4eacb9e",
   "metadata": {},
   "source": [
    "Q13. Find all the products in the category \"Office Supplies\" that have a product cost to consumer more than 100."
   ]
  },
  {
   "cell_type": "code",
   "execution_count": 19,
   "id": "64c33d8d",
   "metadata": {
    "tags": []
   },
   "outputs": [
    {
     "name": "stdout",
     "output_type": "stream",
     "text": [
      "           product_id         category sub_category  \\\n",
      "599   OFF-AP-10000004  Office Supplies   Appliances   \n",
      "603   OFF-AP-10000108  Office Supplies   Appliances   \n",
      "604   OFF-AP-10000136  Office Supplies   Appliances   \n",
      "605   OFF-AP-10000304  Office Supplies   Appliances   \n",
      "606   OFF-AP-10000335  Office Supplies   Appliances   \n",
      "...               ...              ...          ...   \n",
      "1907  OFF-ST-10004768  Office Supplies      Storage   \n",
      "1909  OFF-ST-10004802  Office Supplies      Storage   \n",
      "1910  OFF-ST-10004830  Office Supplies      Storage   \n",
      "1911  OFF-ST-10004837  Office Supplies      Storage   \n",
      "1917  OFF-ST-10004947  Office Supplies      Storage   \n",
      "\n",
      "                            product_name  product_cost_to_consumer  \n",
      "599              Cuisinart Stove, Silver                    355.77  \n",
      "603         Breville Refrigerator, Black                    295.71  \n",
      "604   Hamilton Beach Refrigerator, White                    328.86  \n",
      "605              Hoover Microwave, White                    165.69  \n",
      "606             Cuisinart Microwave, Red                    219.99  \n",
      "...                                  ...                       ...  \n",
      "1907           Eldon Lockers, Industrial                    115.08  \n",
      "1909        Rogers File Cart, Industrial                    107.64  \n",
      "1910                 Eldon Lockers, Blue                    193.98  \n",
      "1911       Eldon File Cart, Single Width                    120.27  \n",
      "1917      Fellowes File Cart, Industrial                    126.78  \n",
      "\n",
      "[116 rows x 5 columns]\n"
     ]
    }
   ],
   "source": [
    "office_supplies = products[(products['category'] == 'Office Supplies') & (products['product_cost_to_consumer'] > 100)]\n",
    "print(office_supplies)"
   ]
  },
  {
   "cell_type": "markdown",
   "id": "c8782a94",
   "metadata": {},
   "source": [
    "Q14. Sort all the products by sub category, then product cost to consumer, showing the most expensive products in each sub category first."
   ]
  },
  {
   "cell_type": "code",
   "execution_count": 20,
   "id": "273a13eb",
   "metadata": {
    "tags": []
   },
   "outputs": [
    {
     "name": "stdout",
     "output_type": "stream",
     "text": [
      "           product_id    category sub_category  \\\n",
      "2126  TEC-AC-10001348  Technology  Accessories   \n",
      "2165  TEC-AC-10002340  Technology  Accessories   \n",
      "2113  TEC-AC-10000861  Technology  Accessories   \n",
      "2115  TEC-AC-10000866  Technology  Accessories   \n",
      "2193  TEC-AC-10003262  Technology  Accessories   \n",
      "...               ...         ...          ...   \n",
      "524   FUR-TA-10001276   Furniture       Tables   \n",
      "578   FUR-TA-10003637   Furniture       Tables   \n",
      "525   FUR-TA-10001327   Furniture       Tables   \n",
      "533   FUR-TA-10001558   Furniture       Tables   \n",
      "584   FUR-TA-10004050   Furniture       Tables   \n",
      "\n",
      "                                 product_name  product_cost_to_consumer  \n",
      "2126               Logitech Router, Bluetooth                    244.86  \n",
      "2165               Logitech Router, Bluetooth                    244.86  \n",
      "2113                SanDisk Router, Erganomic                    213.51  \n",
      "2115                 Belkin Router, Erganomic                    212.97  \n",
      "2193                 Belkin Router, Erganomic                    212.97  \n",
      "...                                       ...                       ...  \n",
      "524   Lesro Coffee Table, with Bottom Storage                    168.84  \n",
      "578   Lesro Coffee Table, with Bottom Storage                    168.84  \n",
      "525      Barricks Training Table, Rectangular                    157.95  \n",
      "533      Barricks Training Table, Rectangular                    157.95  \n",
      "584       Lesro Coffee Table, Fully Assembled                    126.75  \n",
      "\n",
      "[2720 rows x 5 columns]\n"
     ]
    }
   ],
   "source": [
    "sorted_products = products.sort_values(by=['sub_category', 'product_cost_to_consumer'], ascending=[True, False])\n",
    "print(sorted_products)"
   ]
  },
  {
   "cell_type": "markdown",
   "id": "31d235b0",
   "metadata": {},
   "source": [
    "Q15. What are the top 10 products with the highest product cost to consumer containing the word \"Recycled\" or \"Green\" in the product name?\n",
    "Return your answer as a DataFrame object."
   ]
  },
  {
   "cell_type": "code",
   "execution_count": 21,
   "id": "7864c9e5",
   "metadata": {
    "tags": []
   },
   "outputs": [
    {
     "name": "stdout",
     "output_type": "stream",
     "text": [
      "           product_id         category sub_category  \\\n",
      "1615  OFF-PA-10000976  Office Supplies        Paper   \n",
      "1673  OFF-PA-10003273  Office Supplies        Paper   \n",
      "953   OFF-BI-10001645  Office Supplies      Binders   \n",
      "1643  OFF-PA-10002047  Office Supplies        Paper   \n",
      "1620  OFF-PA-10001258  Office Supplies        Paper   \n",
      "1624  OFF-PA-10001327  Office Supplies        Paper   \n",
      "1637  OFF-PA-10001849  Office Supplies        Paper   \n",
      "1125  OFF-EN-10001109  Office Supplies    Envelopes   \n",
      "1226  OFF-EN-10004254  Office Supplies    Envelopes   \n",
      "1691  OFF-PA-10003550  Office Supplies        Paper   \n",
      "\n",
      "                                 product_name  product_cost_to_consumer  \n",
      "1615     Green Bar Cards & Envelopes, Premium                     47.91  \n",
      "1673     Green Bar Cards & Envelopes, Premium                     47.91  \n",
      "953           Ibico Binding Machine, Recycled                     46.62  \n",
      "1643    Green Bar Cards & Envelopes, 8.5 x 11                     46.23  \n",
      "1620  Green Bar Cards & Envelopes, Multicolor                     45.33  \n",
      "1624      SanDisk Cards & Envelopes, Recycled                     44.01  \n",
      "1637      SanDisk Cards & Envelopes, Recycled                     44.01  \n",
      "1125      Ames Interoffice Envelope, Recycled                     43.92  \n",
      "1226      Ames Interoffice Envelope, Recycled                     43.92  \n",
      "1691        Eaton Cards & Envelopes, Recycled                     38.34  \n"
     ]
    }
   ],
   "source": [
    "filtered_products = products[products['product_name'].str.contains('Recycled|Green', case=False)]\n",
    "top_10_expensive = filtered_products.nlargest(10, 'product_cost_to_consumer')\n",
    "print(top_10_expensive)"
   ]
  }
 ],
 "metadata": {
  "kernelspec": {
   "display_name": "Python 3 (ipykernel)",
   "language": "python",
   "name": "python3"
  },
  "language_info": {
   "codemirror_mode": {
    "name": "ipython",
    "version": 3
   },
   "file_extension": ".py",
   "mimetype": "text/x-python",
   "name": "python",
   "nbconvert_exporter": "python",
   "pygments_lexer": "ipython3",
   "version": "3.11.4"
  }
 },
 "nbformat": 4,
 "nbformat_minor": 5
}
